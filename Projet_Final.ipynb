{
  "nbformat": 4,
  "nbformat_minor": 0,
  "metadata": {
    "colab": {
      "name": "Projet_Final.ipynb",
      "version": "0.3.2",
      "provenance": [],
      "collapsed_sections": [],
      "include_colab_link": true
    },
    "kernelspec": {
      "name": "python3",
      "display_name": "Python 3"
    }
  },
  "cells": [
    {
      "cell_type": "markdown",
      "metadata": {
        "id": "view-in-github",
        "colab_type": "text"
      },
      "source": [
        "<a href=\"https://colab.research.google.com/github/AIKevin/Sentence_Classification_for_PGN/blob/master/Projet_Final.ipynb\" target=\"_parent\"><img src=\"https://colab.research.google.com/assets/colab-badge.svg\" alt=\"Open In Colab\"/></a>"
      ]
    },
    {
      "cell_type": "markdown",
      "metadata": {
        "id": "fsvP6Q5gM6ma",
        "colab_type": "text"
      },
      "source": [
        "#Sentence Classification for Pointer Generator Network\n",
        "\n",
        "For this notebook you will need:\n",
        "\n",
        "\n",
        "1.   One dataset of annotated data with the class of the sentence (important or non-important)\n",
        "2.   One folder with csv files containing sentences to classify before making the raw data for the Pointer Generator Network\n",
        "\n"
      ]
    },
    {
      "cell_type": "code",
      "metadata": {
        "id": "zYlYQ9lCVKjY",
        "colab_type": "code",
        "outputId": "73c1881b-4c54-410b-a8fe-475ac98bb96f",
        "colab": {
          "base_uri": "https://localhost:8080/",
          "height": 34
        }
      },
      "source": [
        "from google.colab import drive\n",
        "drive.mount(\"/content/drive\", force_remount=True)"
      ],
      "execution_count": 0,
      "outputs": [
        {
          "output_type": "stream",
          "text": [
            "Mounted at /content/drive\n"
          ],
          "name": "stdout"
        }
      ]
    },
    {
      "cell_type": "code",
      "metadata": {
        "id": "51lVGkeXBd3O",
        "colab_type": "code",
        "outputId": "189a49d5-893d-41a0-9b8f-60c3f3cc8243",
        "colab": {
          "base_uri": "https://localhost:8080/",
          "height": 530
        }
      },
      "source": [
        "!pip install tensorflow-gpu==2.0.0-beta1"
      ],
      "execution_count": 0,
      "outputs": [
        {
          "output_type": "stream",
          "text": [
            "Collecting tensorflow-gpu==2.0.0-beta1\n",
            "\u001b[?25l  Downloading https://files.pythonhosted.org/packages/2b/53/e18c5e7a2263d3581a979645a185804782e59b8e13f42b9c3c3cfb5bb503/tensorflow_gpu-2.0.0b1-cp36-cp36m-manylinux1_x86_64.whl (348.9MB)\n",
            "\u001b[K     |████████████████████████████████| 348.9MB 58kB/s \n",
            "\u001b[?25hRequirement already satisfied: keras-preprocessing>=1.0.5 in /usr/local/lib/python3.6/dist-packages (from tensorflow-gpu==2.0.0-beta1) (1.1.0)\n",
            "Requirement already satisfied: astor>=0.6.0 in /usr/local/lib/python3.6/dist-packages (from tensorflow-gpu==2.0.0-beta1) (0.8.0)\n",
            "Requirement already satisfied: absl-py>=0.7.0 in /usr/local/lib/python3.6/dist-packages (from tensorflow-gpu==2.0.0-beta1) (0.7.1)\n",
            "Requirement already satisfied: numpy<2.0,>=1.14.5 in /usr/local/lib/python3.6/dist-packages (from tensorflow-gpu==2.0.0-beta1) (1.16.4)\n",
            "Collecting tf-estimator-nightly<1.14.0.dev2019060502,>=1.14.0.dev2019060501 (from tensorflow-gpu==2.0.0-beta1)\n",
            "\u001b[?25l  Downloading https://files.pythonhosted.org/packages/32/dd/99c47dd007dcf10d63fd895611b063732646f23059c618a373e85019eb0e/tf_estimator_nightly-1.14.0.dev2019060501-py2.py3-none-any.whl (496kB)\n",
            "\u001b[K     |████████████████████████████████| 501kB 43.0MB/s \n",
            "\u001b[?25hRequirement already satisfied: protobuf>=3.6.1 in /usr/local/lib/python3.6/dist-packages (from tensorflow-gpu==2.0.0-beta1) (3.7.1)\n",
            "Requirement already satisfied: wrapt>=1.11.1 in /usr/local/lib/python3.6/dist-packages (from tensorflow-gpu==2.0.0-beta1) (1.11.2)\n",
            "Requirement already satisfied: grpcio>=1.8.6 in /usr/local/lib/python3.6/dist-packages (from tensorflow-gpu==2.0.0-beta1) (1.15.0)\n",
            "Requirement already satisfied: keras-applications>=1.0.6 in /usr/local/lib/python3.6/dist-packages (from tensorflow-gpu==2.0.0-beta1) (1.0.8)\n",
            "Requirement already satisfied: gast>=0.2.0 in /usr/local/lib/python3.6/dist-packages (from tensorflow-gpu==2.0.0-beta1) (0.2.2)\n",
            "Requirement already satisfied: wheel>=0.26 in /usr/local/lib/python3.6/dist-packages (from tensorflow-gpu==2.0.0-beta1) (0.33.4)\n",
            "Collecting tb-nightly<1.14.0a20190604,>=1.14.0a20190603 (from tensorflow-gpu==2.0.0-beta1)\n",
            "\u001b[?25l  Downloading https://files.pythonhosted.org/packages/a4/96/571b875cd81dda9d5dfa1422a4f9d749e67c0a8d4f4f0b33a4e5f5f35e27/tb_nightly-1.14.0a20190603-py3-none-any.whl (3.1MB)\n",
            "\u001b[K     |████████████████████████████████| 3.1MB 32.5MB/s \n",
            "\u001b[?25hRequirement already satisfied: six>=1.10.0 in /usr/local/lib/python3.6/dist-packages (from tensorflow-gpu==2.0.0-beta1) (1.12.0)\n",
            "Requirement already satisfied: google-pasta>=0.1.6 in /usr/local/lib/python3.6/dist-packages (from tensorflow-gpu==2.0.0-beta1) (0.1.7)\n",
            "Requirement already satisfied: termcolor>=1.1.0 in /usr/local/lib/python3.6/dist-packages (from tensorflow-gpu==2.0.0-beta1) (1.1.0)\n",
            "Requirement already satisfied: setuptools in /usr/local/lib/python3.6/dist-packages (from protobuf>=3.6.1->tensorflow-gpu==2.0.0-beta1) (41.0.1)\n",
            "Requirement already satisfied: h5py in /usr/local/lib/python3.6/dist-packages (from keras-applications>=1.0.6->tensorflow-gpu==2.0.0-beta1) (2.8.0)\n",
            "Requirement already satisfied: werkzeug>=0.11.15 in /usr/local/lib/python3.6/dist-packages (from tb-nightly<1.14.0a20190604,>=1.14.0a20190603->tensorflow-gpu==2.0.0-beta1) (0.15.5)\n",
            "Requirement already satisfied: markdown>=2.6.8 in /usr/local/lib/python3.6/dist-packages (from tb-nightly<1.14.0a20190604,>=1.14.0a20190603->tensorflow-gpu==2.0.0-beta1) (3.1.1)\n",
            "Installing collected packages: tf-estimator-nightly, tb-nightly, tensorflow-gpu\n",
            "Successfully installed tb-nightly-1.14.0a20190603 tensorflow-gpu-2.0.0b1 tf-estimator-nightly-1.14.0.dev2019060501\n"
          ],
          "name": "stdout"
        }
      ]
    },
    {
      "cell_type": "code",
      "metadata": {
        "id": "jnJMpYiZSlL0",
        "colab_type": "code",
        "colab": {}
      },
      "source": [
        "from __future__ import absolute_import, division, print_function, unicode_literals\n",
        "from google.colab import files\n",
        "import numpy as np\n",
        "import tensorflow_datasets as tfds\n",
        "import tensorflow as tf\n",
        "import pandas as pd\n",
        "import matplotlib.pyplot as plt\n",
        "import os\n",
        "import io\n",
        "import keras.preprocessing.text\n",
        "import tensorflow.keras.backend as K\n",
        "from keras.preprocessing.text import Tokenizer\n",
        "from keras.preprocessing.sequence import pad_sequences\n",
        "from sklearn.metrics import classification_report\n",
        "from sklearn.metrics import confusion_matrix as cm\n",
        "from sklearn.metrics import multilabel_confusion_matrix as mcm\n",
        "tf.keras.backend.clear_session()\n",
        "np.set_printoptions(precision=3, suppress=True)\n",
        "pd.options.display.max_colwidth = 1000"
      ],
      "execution_count": 0,
      "outputs": []
    },
    {
      "cell_type": "code",
      "metadata": {
        "id": "9XblC8zbTyDo",
        "colab_type": "code",
        "colab": {}
      },
      "source": [
        "def plot_graphs(history, string):\n",
        "  plt.plot(history.history[string])\n",
        "  plt.plot(history.history['val_'+string])\n",
        "  plt.xlabel(\"Epochs\")\n",
        "  plt.ylabel(string)\n",
        "  plt.legend([string, 'val_'+string])\n",
        "  plt.show()"
      ],
      "execution_count": 0,
      "outputs": []
    },
    {
      "cell_type": "markdown",
      "metadata": {
        "id": "yhtbrxuM_hfj",
        "colab_type": "text"
      },
      "source": [
        "#Data Preprocess\n",
        "For this part you will need:\n",
        "\n",
        "\n",
        "1.   Raw dataset of sentences (xlsx format)\n",
        "\n"
      ]
    },
    {
      "cell_type": "code",
      "metadata": {
        "id": "MyRx8GqZT5wZ",
        "colab_type": "code",
        "colab": {}
      },
      "source": [
        "def create_dataset(TRAIN_DATA_PATH):\n",
        "  #TEST_DATA_URL = \"https://storage.googleapis.com/tf-datasets/titanic/eval.csv\"\n",
        "\n",
        "  train_file_path = pd.read_excel(TRAIN_DATA_PATH, sep=';', encoding='latin-1', header=0)\n",
        "  msk = np.random.rand(len(train_file_path)) < 0.8\n",
        "\n",
        "  train = train_file_path[msk]\n",
        "\n",
        "  test = train_file_path[~msk]\n",
        "  #print(train_file_path.head)\n",
        "  all_data = np.array(train_file_path.values.tolist())\n",
        "  training_set = np.array(train.values.tolist())\n",
        "  test_set=np.array(test.values.tolist())\n",
        "  print(\"Dataset Length: \",len(training_set)+ len(test_set))\n",
        "  return all_data, training_set, test_set"
      ],
      "execution_count": 0,
      "outputs": []
    },
    {
      "cell_type": "code",
      "metadata": {
        "id": "PPajYlPlWD4C",
        "colab_type": "code",
        "colab": {}
      },
      "source": [
        "def create_tokenizer(dataset):\n",
        "  # create the tokenizer\n",
        "  tokenizer = Tokenizer(filters='!\"#$%&()*+,-./:;<=>?@[\\\\]^_`{|}~\\t\\n', lower=True, split=' ', char_level=False, oov_token='UNK')\n",
        "  # fit the tokenizer on the documents\n",
        "  tokenizer.fit_on_texts(all_data[:,1])\n",
        "  # summarize what was learned\n",
        "  print(\"Word counter: \",tokenizer.word_counts)\n",
        "  print(\"Number of sentences: \",tokenizer.document_count)\n",
        "  print(\"Word Index: \", tokenizer.word_index)\n",
        "  print(\"Word Docs: \",tokenizer.word_docs)\n",
        "  return tokenizer"
      ],
      "execution_count": 0,
      "outputs": []
    },
    {
      "cell_type": "code",
      "metadata": {
        "id": "9FC8jHEqrf4y",
        "colab_type": "code",
        "colab": {}
      },
      "source": [
        "def reverser():\n",
        "  reverse_word_index = dict([(value, key) for (key, value) in tokenizer.word_index.items()])\n",
        "  return reverse_word_index"
      ],
      "execution_count": 0,
      "outputs": []
    },
    {
      "cell_type": "code",
      "metadata": {
        "id": "vGO4gQR9uqrK",
        "colab_type": "code",
        "colab": {}
      },
      "source": [
        "def vocab_size(tokenizer):\n",
        "  vocab_size=len(tokenizer.word_counts)+2\n",
        "  return vocab_size"
      ],
      "execution_count": 0,
      "outputs": []
    },
    {
      "cell_type": "code",
      "metadata": {
        "id": "orDX-rPlzryh",
        "colab_type": "code",
        "colab": {}
      },
      "source": [
        "def maxlen(training, test):\n",
        "  max_train_sequence_len = max([len(x) for x in training])\n",
        "  max_test_sequence_len = max([len(x) for x in test])\n",
        "  return max(max_train_sequence_len, max_test_sequence_len)"
      ],
      "execution_count": 0,
      "outputs": []
    },
    {
      "cell_type": "code",
      "metadata": {
        "id": "VPjTzYJiUOo_",
        "colab_type": "code",
        "outputId": "a06a8f79-89bb-4d34-fa69-23fafd2b4b1f",
        "colab": {
          "base_uri": "https://localhost:8080/",
          "height": 34
        }
      },
      "source": [
        "all_data, training_set, test_set = create_dataset(\"/content/drive/My Drive/Datasets/donnee4.xlsx\")"
      ],
      "execution_count": 0,
      "outputs": [
        {
          "output_type": "stream",
          "text": [
            "Dataset Length:  2398\n"
          ],
          "name": "stdout"
        }
      ]
    },
    {
      "cell_type": "code",
      "metadata": {
        "id": "7lie-ExIoWz8",
        "colab_type": "code",
        "colab": {}
      },
      "source": [
        "tokenizer=create_tokenizer(all_data)"
      ],
      "execution_count": 0,
      "outputs": []
    },
    {
      "cell_type": "markdown",
      "metadata": {
        "id": "77MYhEByADca",
        "colab_type": "text"
      },
      "source": [
        "#Embeddings pretraining (Next Word Prediction)\n",
        "For this part you will need:\n",
        "\n",
        "\n",
        "1.   Preprocessed dataset\n",
        "2.   Tokenizer from the data preprocess part\n",
        "\n"
      ]
    },
    {
      "cell_type": "code",
      "metadata": {
        "id": "f5FSota9ocYk",
        "colab_type": "code",
        "colab": {}
      },
      "source": [
        "def tokenize_and_split_sentences(input_set):\n",
        "  input_sequences = []\n",
        "  for line in input_set[:,1]:\n",
        "      token_list = tokenizer.texts_to_sequences([line])[0]\n",
        "      for i in range(1, len(token_list)):\n",
        "          n_gram_sequence = token_list[:i+1]\n",
        "          input_sequences.append(n_gram_sequence)\n",
        "  return input_sequences\n",
        "  #print(input_test_sequences)"
      ],
      "execution_count": 0,
      "outputs": []
    },
    {
      "cell_type": "markdown",
      "metadata": {
        "id": "Gr6EnLLJCRyk",
        "colab_type": "text"
      },
      "source": [
        ""
      ]
    },
    {
      "cell_type": "code",
      "metadata": {
        "id": "tR4TT-NXu6qg",
        "colab_type": "code",
        "colab": {}
      },
      "source": [
        "def pad_sentences(input_sequences, max_sequence_len):\n",
        "  input_padded_sequences = np.array(pad_sequences(input_sequences,   \n",
        "                            maxlen=max_sequence_len, padding='pre'))\n",
        "  return input_padded_sequences\n"
      ],
      "execution_count": 0,
      "outputs": []
    },
    {
      "cell_type": "code",
      "metadata": {
        "id": "SNQSBUz74pzo",
        "colab_type": "code",
        "colab": {}
      },
      "source": [
        "def create_dataset_slices(input_sequences):\n",
        "  predictors, label = input_sequences[:,:-1],input_sequences[:,-1]\n",
        "  label = keras.utils.to_categorical(label, num_classes=vocab_size)\n",
        "  return predictors, label"
      ],
      "execution_count": 0,
      "outputs": []
    },
    {
      "cell_type": "code",
      "metadata": {
        "id": "dGnrFQwt8Wvs",
        "colab_type": "code",
        "colab": {}
      },
      "source": [
        "def create_preprocessed_dataset(predictors, labels):\n",
        "  dataset = tf.data.Dataset.from_tensor_slices((predictors, labels))\n",
        "  return dataset"
      ],
      "execution_count": 0,
      "outputs": []
    },
    {
      "cell_type": "code",
      "metadata": {
        "id": "4Jn1u0hm9PMr",
        "colab_type": "code",
        "colab": {}
      },
      "source": [
        "def prepare_train_dataset(train_dataset, BUFFER_SIZE, BATCH_SIZE):\n",
        "  train_dataset = train_dataset.shuffle(BUFFER_SIZE)\n",
        "  train_dataset = train_dataset.padded_batch(BATCH_SIZE, train_dataset.output_shapes)\n",
        "  return train_dataset\n",
        "def prepare_test_dataset(test_dataset, BATCH_SIZE):\n",
        "  test_dataset = test_dataset.padded_batch(BATCH_SIZE, test_dataset.output_shapes)\n",
        "  return test_dataset"
      ],
      "execution_count": 0,
      "outputs": []
    },
    {
      "cell_type": "code",
      "metadata": {
        "id": "14Hyi3eCC7PU",
        "colab_type": "code",
        "colab": {}
      },
      "source": [
        "def top_k_categorical_accuracy2(y_true, y_pred, k=50):\n",
        "    return K.mean(K.in_top_k(K.cast(y_pred,dtype='float32'), K.argmax(y_true, axis=-1), k), axis=-1)"
      ],
      "execution_count": 0,
      "outputs": []
    },
    {
      "cell_type": "code",
      "metadata": {
        "id": "VwbcV72OWHIA",
        "colab_type": "code",
        "colab": {}
      },
      "source": [
        "def get_embeddings(model):\n",
        "  e = model.layers[0]\n",
        "  weights = e.get_weights()[0]\n",
        "  return weights"
      ],
      "execution_count": 0,
      "outputs": []
    },
    {
      "cell_type": "code",
      "metadata": {
        "id": "em7kGeJzmsb1",
        "colab_type": "code",
        "colab": {}
      },
      "source": [
        "def write_tsv_for_visualization(weights):\n",
        "  out_v = io.open('vecs.tsv', 'w', encoding='utf-8')\n",
        "  out_m = io.open('meta.tsv', 'w', encoding='utf-8')\n",
        "  for word_num in range(vocab_size):\n",
        "    if word_num==0:\n",
        "      word = \"PAD\"\n",
        "      embeddings = weights[word_num]\n",
        "    else:\n",
        "      reverse_word_index=reverser()\n",
        "      word = reverse_word_index[word_num]\n",
        "      embeddings = weights[word_num]\n",
        "    out_m.write(word + \"\\n\")\n",
        "    out_v.write('\\t'.join([str(x) for x in embeddings]) + \"\\n\")\n",
        "  out_v.close()\n",
        "  out_m.close()\n",
        "  files.download('vecs.tsv')\n",
        "  files.download('meta.tsv')"
      ],
      "execution_count": 0,
      "outputs": []
    },
    {
      "cell_type": "code",
      "metadata": {
        "id": "0N_TUoesrXWz",
        "colab_type": "code",
        "colab": {}
      },
      "source": [
        "input_train=tokenize_and_split_sentences(training_set)\n",
        "input_test=tokenize_and_split_sentences(test_set)"
      ],
      "execution_count": 0,
      "outputs": []
    },
    {
      "cell_type": "code",
      "metadata": {
        "id": "cCVXzcrru3ae",
        "colab_type": "code",
        "colab": {}
      },
      "source": [
        "vocab_size=vocab_size(tokenizer)"
      ],
      "execution_count": 0,
      "outputs": []
    },
    {
      "cell_type": "code",
      "metadata": {
        "id": "7kvjSsa51BMI",
        "colab_type": "code",
        "colab": {}
      },
      "source": [
        "max_sequence_len=maxlen(input_train,input_test)"
      ],
      "execution_count": 0,
      "outputs": []
    },
    {
      "cell_type": "code",
      "metadata": {
        "id": "qT-0Wj_z4VS9",
        "colab_type": "code",
        "colab": {}
      },
      "source": [
        "input_training_sequences=pad_sentences(input_train, max_sequence_len)"
      ],
      "execution_count": 0,
      "outputs": []
    },
    {
      "cell_type": "code",
      "metadata": {
        "id": "0dlvjWX84mpm",
        "colab_type": "code",
        "colab": {}
      },
      "source": [
        "input_test_sequences=pad_sentences(input_test, max_sequence_len)"
      ],
      "execution_count": 0,
      "outputs": []
    },
    {
      "cell_type": "code",
      "metadata": {
        "id": "npBzzNCa7002",
        "colab_type": "code",
        "colab": {}
      },
      "source": [
        "training_predictors, training_label=create_dataset_slices(input_training_sequences)"
      ],
      "execution_count": 0,
      "outputs": []
    },
    {
      "cell_type": "code",
      "metadata": {
        "id": "kQvSbg2b79Bv",
        "colab_type": "code",
        "colab": {}
      },
      "source": [
        "test_predictors, test_label= create_dataset_slices(input_test_sequences)"
      ],
      "execution_count": 0,
      "outputs": []
    },
    {
      "cell_type": "code",
      "metadata": {
        "id": "i7Bmz5iG8F6V",
        "colab_type": "code",
        "outputId": "8b74ce0d-67eb-4f3e-9b27-38daa55e9128",
        "colab": {
          "base_uri": "https://localhost:8080/",
          "height": 70
        }
      },
      "source": [
        "print(len(training_predictors))\n",
        "print(len(test_predictors))\n",
        "print(len(test_label))"
      ],
      "execution_count": 0,
      "outputs": [
        {
          "output_type": "stream",
          "text": [
            "56716\n",
            "15433\n",
            "15433\n"
          ],
          "name": "stdout"
        }
      ]
    },
    {
      "cell_type": "code",
      "metadata": {
        "id": "kk_0f3Ez888n",
        "colab_type": "code",
        "colab": {}
      },
      "source": [
        "train_dataset=create_preprocessed_dataset(training_predictors,training_label)"
      ],
      "execution_count": 0,
      "outputs": []
    },
    {
      "cell_type": "code",
      "metadata": {
        "id": "CWu9K13F9B4p",
        "colab_type": "code",
        "colab": {}
      },
      "source": [
        "test_dataset=create_preprocessed_dataset(test_predictors,test_label)"
      ],
      "execution_count": 0,
      "outputs": []
    },
    {
      "cell_type": "code",
      "metadata": {
        "id": "4jIcKyc0BP0y",
        "colab_type": "code",
        "colab": {}
      },
      "source": [
        "BUFFER_SIZE = 10000\n",
        "BATCH_SIZE = 16"
      ],
      "execution_count": 0,
      "outputs": []
    },
    {
      "cell_type": "code",
      "metadata": {
        "id": "av5PVx5CApNs",
        "colab_type": "code",
        "colab": {}
      },
      "source": [
        "train_dataset=prepare_train_dataset(train_dataset, BUFFER_SIZE, BATCH_SIZE)\n",
        "test_dataset= prepare_test_dataset(test_dataset, BATCH_SIZE)"
      ],
      "execution_count": 0,
      "outputs": []
    },
    {
      "cell_type": "code",
      "metadata": {
        "id": "R1D0oK1OBBu8",
        "colab_type": "code",
        "colab": {}
      },
      "source": [
        "model = tf.keras.Sequential([\n",
        "    tf.keras.layers.Embedding(vocab_size, 64),\n",
        "    tf.keras.layers.LSTM(150),\n",
        "    tf.keras.layers.Dropout(0.1),\n",
        "    tf.keras.layers.Dense(vocab_size, activation='softmax')\n",
        "])"
      ],
      "execution_count": 0,
      "outputs": []
    },
    {
      "cell_type": "code",
      "metadata": {
        "id": "JBOqGuCbC9j2",
        "colab_type": "code",
        "colab": {}
      },
      "source": [
        "model.compile(loss='categorical_crossentropy',\n",
        "              optimizer=tf.keras.optimizers.Adam(),\n",
        "              metrics=[top_k_categorical_accuracy2])"
      ],
      "execution_count": 0,
      "outputs": []
    },
    {
      "cell_type": "code",
      "metadata": {
        "id": "oScJC7VqC_kx",
        "colab_type": "code",
        "outputId": "d5cf1b3b-adaf-4767-eba8-09a67dd941ae",
        "colab": {
          "base_uri": "https://localhost:8080/",
          "height": 459
        }
      },
      "source": [
        "history = model.fit(train_dataset, epochs=10, validation_data=test_dataset)"
      ],
      "execution_count": 0,
      "outputs": [
        {
          "output_type": "stream",
          "text": [
            "WARNING: Logging before flag parsing goes to stderr.\n",
            "W0725 10:20:13.678402 140478070486912 deprecation.py:323] From /usr/local/lib/python3.6/dist-packages/tensorflow/python/ops/math_grad.py:1250: add_dispatch_support.<locals>.wrapper (from tensorflow.python.ops.array_ops) is deprecated and will be removed in a future version.\n",
            "Instructions for updating:\n",
            "Use tf.where in 2.0, which has the same broadcast rule as np.where\n"
          ],
          "name": "stderr"
        },
        {
          "output_type": "stream",
          "text": [
            "Epoch 1/10\n",
            "3545/3545 [==============================] - 366s 103ms/step - loss: 6.3503 - top_k_categorical_accuracy2: 0.4772 - val_loss: 5.9724 - val_top_k_categorical_accuracy2: 0.5190\n",
            "Epoch 2/10\n",
            "3545/3545 [==============================] - 366s 103ms/step - loss: 5.2940 - top_k_categorical_accuracy2: 0.5998 - val_loss: 5.2932 - val_top_k_categorical_accuracy2: 0.6274\n",
            "Epoch 3/10\n",
            "3545/3545 [==============================] - 369s 104ms/step - loss: 4.5952 - top_k_categorical_accuracy2: 0.6884 - val_loss: 4.9753 - val_top_k_categorical_accuracy2: 0.6684\n",
            "Epoch 4/10\n",
            "3545/3545 [==============================] - 368s 104ms/step - loss: 4.0940 - top_k_categorical_accuracy2: 0.7558 - val_loss: 4.8045 - val_top_k_categorical_accuracy2: 0.6945\n",
            "Epoch 5/10\n",
            "3545/3545 [==============================] - 365s 103ms/step - loss: 3.6928 - top_k_categorical_accuracy2: 0.8110 - val_loss: 4.7383 - val_top_k_categorical_accuracy2: 0.7058\n",
            "Epoch 6/10\n",
            "3545/3545 [==============================] - 365s 103ms/step - loss: 3.3538 - top_k_categorical_accuracy2: 0.8566 - val_loss: 4.6739 - val_top_k_categorical_accuracy2: 0.7128\n",
            "Epoch 7/10\n",
            "3545/3545 [==============================] - 365s 103ms/step - loss: 3.0641 - top_k_categorical_accuracy2: 0.8913 - val_loss: 4.6640 - val_top_k_categorical_accuracy2: 0.7155\n",
            "Epoch 8/10\n",
            "3545/3545 [==============================] - 371s 105ms/step - loss: 2.8167 - top_k_categorical_accuracy2: 0.9145 - val_loss: 4.6556 - val_top_k_categorical_accuracy2: 0.7184\n",
            "Epoch 9/10\n",
            "3545/3545 [==============================] - 366s 103ms/step - loss: 2.5793 - top_k_categorical_accuracy2: 0.9354 - val_loss: 4.6865 - val_top_k_categorical_accuracy2: 0.7190\n",
            "Epoch 10/10\n",
            "3545/3545 [==============================] - 375s 106ms/step - loss: 2.3657 - top_k_categorical_accuracy2: 0.9494 - val_loss: 4.6885 - val_top_k_categorical_accuracy2: 0.7235\n"
          ],
          "name": "stdout"
        }
      ]
    },
    {
      "cell_type": "code",
      "metadata": {
        "id": "snXGeo3YDBmo",
        "colab_type": "code",
        "outputId": "2a253be5-ce0b-4c07-a64c-29bc25957eea",
        "colab": {
          "base_uri": "https://localhost:8080/",
          "height": 283
        }
      },
      "source": [
        "plot_graphs(history, 'loss')"
      ],
      "execution_count": 0,
      "outputs": [
        {
          "output_type": "display_data",
          "data": {
            "image/png": "[encoded data removed]",
            "text/plain": [
              "<Figure size 432x288 with 1 Axes>"
            ]
          },
          "metadata": {
            "tags": []
          }
        }
      ]
    },
    {
      "cell_type": "code",
      "metadata": {
        "id": "HF4VtY2Jk20s",
        "colab_type": "code",
        "colab": {}
      },
      "source": [
        "w=get_embeddings(model)"
      ],
      "execution_count": 0,
      "outputs": []
    },
    {
      "cell_type": "code",
      "metadata": {
        "id": "Jq8P_9SLlAX6",
        "colab_type": "code",
        "outputId": "4eda55bd-2712-451e-aa61-f41b45285098",
        "colab": {
          "base_uri": "https://localhost:8080/",
          "height": 158
        }
      },
      "source": [
        "w"
      ],
      "execution_count": 0,
      "outputs": [
        {
          "output_type": "execute_result",
          "data": {
            "text/plain": [
              "array([[-0.372, -0.024,  0.111, ...,  0.03 , -0.024,  0.038],\n",
              "       [-0.018, -0.017, -0.047, ..., -0.003,  0.027, -0.012],\n",
              "       [ 0.091, -0.391, -0.015, ..., -0.043, -0.213,  0.098],\n",
              "       ...,\n",
              "       [ 0.288, -0.005, -0.006, ..., -0.146, -0.02 ,  0.028],\n",
              "       [-0.213,  0.043,  0.092, ..., -0.066, -0.184, -0.148],\n",
              "       [ 0.095,  0.113, -0.171, ...,  0.047,  0.039, -0.347]],\n",
              "      dtype=float32)"
            ]
          },
          "metadata": {
            "tags": []
          },
          "execution_count": 37
        }
      ]
    },
    {
      "cell_type": "code",
      "metadata": {
        "id": "-8LhmhlTLEmi",
        "colab_type": "code",
        "colab": {}
      },
      "source": [
        "#write_tsv_for_visualization(w)"
      ],
      "execution_count": 0,
      "outputs": []
    },
    {
      "cell_type": "markdown",
      "metadata": {
        "id": "iYQ07FuYmgjk",
        "colab_type": "text"
      },
      "source": [
        "#Sentence Selection\n",
        "For this part you will need: \n",
        "\n",
        "1.   Pre-trained embeddings weights from the next word prediction\n",
        "2.   Dataset of the next word prediction model (training_set and test_set) OR raw data which needs to be preprocessed (cf next word prediction part)\n",
        "3.   Dataset of sentences to be classified\n",
        "\n"
      ]
    },
    {
      "cell_type": "code",
      "metadata": {
        "id": "o5CANHpM8NE-",
        "colab_type": "code",
        "colab": {}
      },
      "source": [
        "def tokenize_sentences(input_set):\n",
        "  input_sequences = []\n",
        "  for line in input_set[:,1]:\n",
        "      token_list = tokenizer.texts_to_sequences([line])[0]\n",
        "      input_sequences.append(token_list)\n",
        "  return input_sequences"
      ],
      "execution_count": 0,
      "outputs": []
    },
    {
      "cell_type": "code",
      "metadata": {
        "id": "CEI_BY-dNLD-",
        "colab_type": "code",
        "colab": {}
      },
      "source": [
        "def pad_sentences2(input_sequences, max_sequence_len):\n",
        "  input_padded_sequences=[]\n",
        "  for line in input_sequences:\n",
        "    padded_sequences =padarray(line, max_sequence_len)\n",
        "    input_padded_sequences.append(padded_sequences)\n",
        "  return input_padded_sequences"
      ],
      "execution_count": 0,
      "outputs": []
    },
    {
      "cell_type": "code",
      "metadata": {
        "id": "OnZQ4K9nlA5u",
        "colab_type": "code",
        "colab": {}
      },
      "source": [
        "def create_dataset_slices_sentence_classification(input_sequences, targets):\n",
        "  predictors= tf.constant(input_sequences)\n",
        "  targets=targets.astype(int)\n",
        "  nb_classes = 18\n",
        "  targets = targets.reshape(-1)\n",
        "  one_hot_targets = np.eye(nb_classes)[targets]\n",
        "  return predictors, one_hot_targets"
      ],
      "execution_count": 0,
      "outputs": []
    },
    {
      "cell_type": "code",
      "metadata": {
        "id": "NTBizW1rlnZL",
        "colab_type": "code",
        "colab": {}
      },
      "source": [
        "def padarray(A, size):\n",
        "    t = size - len(A)\n",
        "    return np.pad(A, pad_width=(0, t), mode='constant')"
      ],
      "execution_count": 0,
      "outputs": []
    },
    {
      "cell_type": "code",
      "metadata": {
        "colab_type": "code",
        "id": "vMr6kx8t9p_9",
        "colab": {}
      },
      "source": [
        "def sample_predict(sentence, pad, t, model):\n",
        "  tokenized_sample_pred_text =t.texts_to_sequences([sentence])\n",
        "  tokenized_sample_pred_text=np.array(tokenized_sample_pred_text)\n",
        "  #print(len(tokenized_sample_pred_text[0]))     \n",
        "  PAD_SIZE=80  \n",
        "  if len(tokenized_sample_pred_text[0])<PAD_SIZE:\n",
        "    inp=padarray(tokenized_sample_pred_text[0], PAD_SIZE)\n",
        "    predictions = model.predict(tf.expand_dims(inp, 0)) \n",
        "    return np.argmax(predictions)\n",
        "  else:\n",
        "    return 17\n"
      ],
      "execution_count": 0,
      "outputs": []
    },
    {
      "cell_type": "code",
      "metadata": {
        "id": "3bcx_FlLM_FS",
        "colab_type": "code",
        "colab": {}
      },
      "source": [
        "#emb= pd.read_csv(\"vecs.tsv\",sep='\\t',header=None)\n",
        "embeddings= np.array(w)\n",
        "def retemb(shape, dtype=None):\n",
        "  return embeddings"
      ],
      "execution_count": 0,
      "outputs": []
    },
    {
      "cell_type": "code",
      "metadata": {
        "id": "GNXCREqFKt4b",
        "colab_type": "code",
        "colab": {}
      },
      "source": [
        "def create_dataset_PGN(folder_path, receiving_folder_path, add_score, tokenizer, model):\n",
        "  folder_name=os.listdir(folder_path)\n",
        "  num_match=0\n",
        "  for file in folder_name:    \n",
        "    i=0\n",
        "    raw=pd.read_excel(folder_path+str(file), sep=';', encoding='latin-1', header=None)\n",
        "    \n",
        "    #print(raw[0])\n",
        "    article=\"\"\n",
        "    for line in raw[0]:\n",
        "      #print(line)\n",
        "      if i==0:        \n",
        "        score= str(line)\n",
        "        print(\"score: \",score)\n",
        "      if i==1:        \n",
        "        summary= str(line)\n",
        "        print(\"summary: \", summary)\n",
        "      else:\n",
        "      #print(line)\n",
        "        predictions = sample_predict(str(line), True, tokenizer, model)\n",
        "        #print(np.argmax(predictions))\n",
        "        if predictions!=17:\n",
        "          article+= \" \"+ str(line) \n",
        "      i+=1\n",
        "    #print(summary)\n",
        "    #print(article)\n",
        "    resultat= score + article  +\"\\n\"+ \" @highlight \" +\"\\n\" + summary\n",
        "    #print(resultat)\n",
        "    with open(os.path.join(receiving_folder_path, \"match\"+str(num_match)+ \".story\"), 'w') as writer:\n",
        "      writer.write(resultat)\n",
        "      num_match+=1\n",
        "      \n",
        "    #print(resultat)"
      ],
      "execution_count": 0,
      "outputs": []
    },
    {
      "cell_type": "code",
      "metadata": {
        "id": "KIki0bCO-tk5",
        "colab_type": "code",
        "colab": {}
      },
      "source": [
        "input_train2=tokenize_sentences(training_set)\n",
        "input_test2=tokenize_sentences(test_set)"
      ],
      "execution_count": 0,
      "outputs": []
    },
    {
      "cell_type": "code",
      "metadata": {
        "id": "hMu7Sx5c-zVJ",
        "colab_type": "code",
        "colab": {}
      },
      "source": [
        "input_training_sequences2=pad_sentences2(input_train2, max_sequence_len)\n",
        "input_test_sequences2=pad_sentences2(input_test2,max_sequence_len)"
      ],
      "execution_count": 0,
      "outputs": []
    },
    {
      "cell_type": "code",
      "metadata": {
        "id": "Bb-6Wv5H_6kw",
        "colab_type": "code",
        "outputId": "230154bc-4e06-41f7-f156-c0406c05614e",
        "colab": {
          "base_uri": "https://localhost:8080/",
          "height": 122
        }
      },
      "source": [
        "input_training_sequences2[0]"
      ],
      "execution_count": 0,
      "outputs": [
        {
          "output_type": "execute_result",
          "data": {
            "text/plain": [
              "array([1718, 2362,  326,  196,  563,    8,  189,  122,  435,   78,  843,\n",
              "         49,   32,    3,  656,  593,  688,   45, 1719, 2363,   21, 2364,\n",
              "          2,  688, 2365, 2366,    0,    0,    0,    0,    0,    0,    0,\n",
              "          0,    0,    0,    0,    0,    0,    0,    0,    0,    0,    0,\n",
              "          0,    0,    0,    0,    0,    0,    0,    0,    0,    0,    0,\n",
              "          0])"
            ]
          },
          "metadata": {
            "tags": []
          },
          "execution_count": 130
        }
      ]
    },
    {
      "cell_type": "code",
      "metadata": {
        "id": "hlOo3nEJ7NYi",
        "colab_type": "code",
        "colab": {}
      },
      "source": [
        "training_predictors2, training_label2=create_dataset_slices_sentence_classification(input_training_sequences2,training_set[:,0])"
      ],
      "execution_count": 0,
      "outputs": []
    },
    {
      "cell_type": "code",
      "metadata": {
        "id": "myXa82nH7XaD",
        "colab_type": "code",
        "colab": {}
      },
      "source": [
        "test_predictors2, test_label2=create_dataset_slices_sentence_classification(input_test_sequences2,test_set[:,0])"
      ],
      "execution_count": 0,
      "outputs": []
    },
    {
      "cell_type": "code",
      "metadata": {
        "id": "OFYBS54f_9DU",
        "colab_type": "code",
        "colab": {}
      },
      "source": [
        "train_dataset2=create_preprocessed_dataset(training_predictors2, training_label2)"
      ],
      "execution_count": 0,
      "outputs": []
    },
    {
      "cell_type": "code",
      "metadata": {
        "id": "aS2hrXFvET68",
        "colab_type": "code",
        "colab": {}
      },
      "source": [
        "test_dataset2=create_preprocessed_dataset(test_predictors2, test_label2)"
      ],
      "execution_count": 0,
      "outputs": []
    },
    {
      "cell_type": "code",
      "metadata": {
        "id": "oCnp-i0bEvC3",
        "colab_type": "code",
        "colab": {}
      },
      "source": [
        "for features_tensor, target_tensor in train_dataset2:\n",
        "    print(f'features:{features_tensor} target:{target_tensor}')"
      ],
      "execution_count": 0,
      "outputs": []
    },
    {
      "cell_type": "code",
      "metadata": {
        "id": "6LMYGm9EE-Ca",
        "colab_type": "code",
        "colab": {}
      },
      "source": [
        "train_dataset2=prepare_train_dataset(train_dataset2, BUFFER_SIZE, BATCH_SIZE)\n",
        "test_dataset2= prepare_test_dataset(test_dataset2, BATCH_SIZE)"
      ],
      "execution_count": 0,
      "outputs": []
    },
    {
      "cell_type": "code",
      "metadata": {
        "id": "REYc-e90_NXu",
        "colab_type": "code",
        "colab": {}
      },
      "source": [
        "model = tf.keras.Sequential([\n",
        "    tf.keras.layers.Embedding(vocab_size, 64),\n",
        "    tf.keras.layers.Bidirectional(tf.keras.layers.LSTM(64)),\n",
        "    tf.keras.layers.Dense(64, activation='relu'),\n",
        "    tf.keras.layers.Dense(18, activation='softmax')\n",
        "])\n",
        "#adam=tf.keras.optimizers.Adam(learning_rate=0.1)"
      ],
      "execution_count": 0,
      "outputs": []
    },
    {
      "cell_type": "code",
      "metadata": {
        "id": "EZVEPIUu_PVG",
        "colab_type": "code",
        "colab": {}
      },
      "source": [
        "model.compile(loss='categorical_crossentropy',\n",
        "              optimizer=tf.keras.optimizers.Adam(),\n",
        "              metrics=['accuracy'])"
      ],
      "execution_count": 0,
      "outputs": []
    },
    {
      "cell_type": "code",
      "metadata": {
        "id": "O3PLLJza_RJO",
        "colab_type": "code",
        "outputId": "5af672fe-98c1-4573-c36e-e5b24d6f3890",
        "colab": {
          "base_uri": "https://localhost:8080/",
          "height": 193
        }
      },
      "source": [
        "history = model.fit(train_dataset2, epochs=5, validation_data=test_dataset2)"
      ],
      "execution_count": 0,
      "outputs": [
        {
          "output_type": "stream",
          "text": [
            "Epoch 1/5\n",
            "118/118 [==============================] - 13s 109ms/step - loss: 1.5966 - accuracy: 0.4912 - val_loss: 1.2384 - val_accuracy: 0.6214\n",
            "Epoch 2/5\n",
            "118/118 [==============================] - 8s 70ms/step - loss: 1.0476 - accuracy: 0.6537 - val_loss: 1.0909 - val_accuracy: 0.6252\n",
            "Epoch 3/5\n",
            "118/118 [==============================] - 8s 70ms/step - loss: 0.8830 - accuracy: 0.7122 - val_loss: 1.1029 - val_accuracy: 0.6136\n",
            "Epoch 4/5\n",
            "118/118 [==============================] - 8s 70ms/step - loss: 0.7817 - accuracy: 0.7451 - val_loss: 1.1211 - val_accuracy: 0.6330\n",
            "Epoch 5/5\n",
            "118/118 [==============================] - 8s 70ms/step - loss: 0.7088 - accuracy: 0.7764 - val_loss: 1.2384 - val_accuracy: 0.6194\n"
          ],
          "name": "stdout"
        }
      ]
    },
    {
      "cell_type": "code",
      "metadata": {
        "id": "7I_aHkIljVKo",
        "colab_type": "code",
        "colab": {}
      },
      "source": [
        "y_pred=model.predict(test_dataset2)\n",
        "y_pred=tf.keras.backend.argmax(y_pred)\n",
        "print((y_pred))\n",
        "targ=tf.keras.backend.argmax(test_label2)\n",
        "print(targ)\n",
        "print(classification_report(targ,y_pred))\n",
        "test_loss, test_acc = model.evaluate(test_dataset)\n",
        "print('Test Loss: {}'.format(test_loss))\n",
        "print('Test Accuracy: {}'.format(test_acc))\n",
        "print(cm(targ,y_pred))\n",
        "print(mcm(targ,y_pred))"
      ],
      "execution_count": 0,
      "outputs": []
    },
    {
      "cell_type": "code",
      "metadata": {
        "id": "tpK9JYc7_Ygm",
        "colab_type": "code",
        "outputId": "630eae1a-abbf-466d-dc61-a18e96986d89",
        "colab": {
          "base_uri": "https://localhost:8080/",
          "height": 34
        }
      },
      "source": [
        "# predict on a sample text without padding.\n",
        "\n",
        "sample_pred_text = 'Neymar marque un but'\n",
        "predictions = sample_predict(sample_pred_text, False, tokenizer, model)\n",
        "print (predictions)"
      ],
      "execution_count": 0,
      "outputs": [
        {
          "output_type": "stream",
          "text": [
            "9\n"
          ],
          "name": "stdout"
        }
      ]
    },
    {
      "cell_type": "code",
      "metadata": {
        "id": "fbAkAk9fN1iD",
        "colab_type": "code",
        "colab": {}
      },
      "source": [
        "model3 = tf.keras.Sequential([\n",
        "    tf.keras.layers.Embedding(vocab_size, 64, embeddings_initializer=retemb),\n",
        "    tf.keras.layers.Bidirectional(tf.keras.layers.LSTM(64)),\n",
        "    tf.keras.layers.Dense(64, activation='relu'),\n",
        "    tf.keras.layers.Dense(18, activation='softmax')\n",
        "])"
      ],
      "execution_count": 0,
      "outputs": []
    },
    {
      "cell_type": "code",
      "metadata": {
        "id": "GmgeXwrkOF_l",
        "colab_type": "code",
        "colab": {}
      },
      "source": [
        "model3.compile(loss='categorical_crossentropy',\n",
        "              optimizer='adam',\n",
        "              metrics=['accuracy'])"
      ],
      "execution_count": 0,
      "outputs": []
    },
    {
      "cell_type": "code",
      "metadata": {
        "id": "8fzdx6EbXuBx",
        "colab_type": "code",
        "colab": {}
      },
      "source": [
        "ckpt=tf.keras.callbacks.ModelCheckpoint(\"/content/\", save_best_only=True,verbose=1, monitor='val_accuracy', mode='max')"
      ],
      "execution_count": 0,
      "outputs": []
    },
    {
      "cell_type": "code",
      "metadata": {
        "id": "crSYCG9POI1P",
        "colab_type": "code",
        "outputId": "250bd4af-8f11-4a08-e7ea-dcc8be6e5d13",
        "colab": {
          "base_uri": "https://localhost:8080/",
          "height": 158
        }
      },
      "source": [
        "history3 = model3.fit(train_dataset2, epochs=4,\n",
        "                    validation_data=test_dataset2)"
      ],
      "execution_count": 0,
      "outputs": [
        {
          "output_type": "stream",
          "text": [
            "Epoch 1/4\n",
            "118/118 [==============================] - 13s 112ms/step - loss: 1.4279 - accuracy: 0.5343 - val_loss: 1.1424 - val_accuracy: 0.6175\n",
            "Epoch 2/4\n",
            "118/118 [==============================] - 9s 75ms/step - loss: 1.0325 - accuracy: 0.6484 - val_loss: 1.0496 - val_accuracy: 0.6311\n",
            "Epoch 3/4\n",
            "118/118 [==============================] - 9s 74ms/step - loss: 0.9054 - accuracy: 0.6861 - val_loss: 1.0175 - val_accuracy: 0.6447\n",
            "Epoch 4/4\n",
            "118/118 [==============================] - 9s 75ms/step - loss: 0.7721 - accuracy: 0.7456 - val_loss: 1.0435 - val_accuracy: 0.6583\n"
          ],
          "name": "stdout"
        }
      ]
    },
    {
      "cell_type": "code",
      "metadata": {
        "id": "lVOe6stnXRtE",
        "colab_type": "code",
        "outputId": "99bbe171-4117-4bc5-9283-4b11256a8bd7",
        "colab": {
          "base_uri": "https://localhost:8080/",
          "height": 87
        }
      },
      "source": [
        "history4 = model3.fit(train_dataset2, epochs=2,\n",
        "                    validation_data=test_dataset2)"
      ],
      "execution_count": 0,
      "outputs": [
        {
          "output_type": "stream",
          "text": [
            "Epoch 1/2\n",
            "118/118 [==============================] - 9s 74ms/step - loss: 0.6659 - accuracy: 0.7833 - val_loss: 1.1403 - val_accuracy: 0.6660\n",
            "Epoch 2/2\n",
            "118/118 [==============================] - 9s 77ms/step - loss: 0.5650 - accuracy: 0.8173 - val_loss: 1.1677 - val_accuracy: 0.6680\n"
          ],
          "name": "stdout"
        }
      ]
    },
    {
      "cell_type": "code",
      "metadata": {
        "colab_type": "code",
        "id": "azUJ6cejKnX8",
        "colab": {}
      },
      "source": [
        "y_pred=model3.predict(test_dataset2)\n",
        "y_pred=tf.keras.backend.argmax(y_pred)\n",
        "print((y_pred))\n",
        "targ=tf.keras.backend.argmax(test_label2)\n",
        "print(targ)\n",
        "print(classification_report(targ,y_pred))\n",
        "test_loss, test_acc = model3.evaluate(test_dataset2)\n",
        "print('Test Loss: {}'.format(test_loss))\n",
        "print('Test Accuracy: {}'.format(test_acc))\n",
        "print(cm(targ,y_pred))\n",
        "print(mcm(targ,y_pred))"
      ],
      "execution_count": 0,
      "outputs": []
    },
    {
      "cell_type": "code",
      "metadata": {
        "colab_type": "code",
        "outputId": "c9704e5b-88c3-41ba-c0d1-167db5c97763",
        "id": "NIypG4AfKnX_",
        "colab": {
          "base_uri": "https://localhost:8080/",
          "height": 34
        }
      },
      "source": [
        "# predict on a sample text without padding.\n",
        "\n",
        "sample_pred_text = 'Neymar marque un but'\n",
        "predictions = sample_predict(sample_pred_text, False, tokenizer, model3)\n",
        "print (predictions)"
      ],
      "execution_count": 0,
      "outputs": [
        {
          "output_type": "stream",
          "text": [
            "10\n"
          ],
          "name": "stdout"
        }
      ]
    },
    {
      "cell_type": "code",
      "metadata": {
        "id": "yYVbykj5n-uh",
        "colab_type": "code",
        "outputId": "13de7417-507f-4a9c-ca5c-be844b4cf0a9",
        "colab": {
          "base_uri": "https://localhost:8080/",
          "height": 546
        }
      },
      "source": [
        "create_dataset_PGN(\"/content/drive/My Drive/Datasets/tout/\",\"/content/\", True, tokenizer, model3)"
      ],
      "execution_count": 0,
      "outputs": [
        {
          "output_type": "stream",
          "text": [
            "score:  OM gagne le match contre Sochaux avec un score 2-1\n",
            "summary:  Face à une vaillante équipe de Sochaux, l'OM reprend goût à la victoire dans la douleur après 4 matches sans succès en L1 sur un penalty de Gignac, très contesté par les Doubistes. Marseille rejoint le top 5 tandis que Sochaux reste lanterne rouge.\n",
            "score:  Lyon gagne le match contre Saint-Etienne avec un score 2-1\n",
            "summary:  Lyon s'impose pour la 6e fois d'affilée en L1 à Geoffroy-Guichard grâce à un but de Briand dans les dernières secondes. Un scénario cruel pour Saint-Étienne qui avait parfaitement réagi après le premier but lyonnais mais doit s'incliner face à son rival.\n",
            "score:  Lyon fait match nul contre Valenciennes avec un score 1 - 1\n",
            "summary:  Lyon manque l'occasion de recoller aux premières places. Après deux victoires de suite en Ligue 1, les Rhodaniens concèdent un nul logique face une équipe de VA transfigurée en seconde période.\n",
            "score:  Valenciennes fait match nul contre Montpellier avec un score 1 - 1\n",
            "summary:  Cruelle fin de match pour Valenciennes qui laisse filer la victoire dans le temps additionnel sur un oubli défensif face à un MHSC courageux et pourtant réduit à dix. Un match nul qui n'arrange personne, surtout pas VA qui reste relégable.\n",
            "score:  Sochaux fait match nul contre Bastia avec un score 1 - 1\n",
            "summary:  L'arbitre met fin à cette rencontre perturbée par les mauvaises appréciations du corps arbitral. Les Sochaliens auront tout donné pour essayer de battre des Bastiais passés complètement au travers de la seconde période, mais sans réussite.\n",
            "score:  Nantes gagne le match contre Bordeaux avec un score 3-0\n",
            "summary:  Grâce à un réalisme à toute épreuve, Nantes s'offre Bordeaux dans le derby de l'Atlantique. Avec ce succès, les Canaris restent quatrièmes alors que les Girondins, qui n'ont pourtant pas démérité, subissent une deuxième défaite en trois jours. Dur.\n"
          ],
          "name": "stdout"
        },
        {
          "output_type": "error",
          "ename": "KeyboardInterrupt",
          "evalue": "ignored",
          "traceback": [
            "\u001b[0;31m---------------------------------------------------------------------------\u001b[0m",
            "\u001b[0;31mKeyboardInterrupt\u001b[0m                         Traceback (most recent call last)",
            "\u001b[0;32m<ipython-input-264-01c5ac03e9a4>\u001b[0m in \u001b[0;36m<module>\u001b[0;34m()\u001b[0m\n\u001b[0;32m----> 1\u001b[0;31m \u001b[0mcreate_dataset_PGN\u001b[0m\u001b[0;34m(\u001b[0m\u001b[0;34m\"/content/drive/My Drive/Datasets/tout/\"\u001b[0m\u001b[0;34m,\u001b[0m\u001b[0;34m\"/content/\"\u001b[0m\u001b[0;34m,\u001b[0m \u001b[0;32mTrue\u001b[0m\u001b[0;34m,\u001b[0m \u001b[0mtokenizer\u001b[0m\u001b[0;34m,\u001b[0m \u001b[0mmodel3\u001b[0m\u001b[0;34m)\u001b[0m\u001b[0;34m\u001b[0m\u001b[0;34m\u001b[0m\u001b[0m\n\u001b[0m",
            "\u001b[0;32m<ipython-input-263-f3bf640f13ef>\u001b[0m in \u001b[0;36mcreate_dataset_PGN\u001b[0;34m(folder_path, receiving_folder_path, add_score, tokenizer, model)\u001b[0m\n\u001b[1;32m     18\u001b[0m       \u001b[0;32melse\u001b[0m\u001b[0;34m:\u001b[0m\u001b[0;34m\u001b[0m\u001b[0;34m\u001b[0m\u001b[0m\n\u001b[1;32m     19\u001b[0m       \u001b[0;31m#print(line)\u001b[0m\u001b[0;34m\u001b[0m\u001b[0;34m\u001b[0m\u001b[0;34m\u001b[0m\u001b[0m\n\u001b[0;32m---> 20\u001b[0;31m         \u001b[0mpredictions\u001b[0m \u001b[0;34m=\u001b[0m \u001b[0msample_predict\u001b[0m\u001b[0;34m(\u001b[0m\u001b[0mstr\u001b[0m\u001b[0;34m(\u001b[0m\u001b[0mline\u001b[0m\u001b[0;34m)\u001b[0m\u001b[0;34m,\u001b[0m \u001b[0;32mTrue\u001b[0m\u001b[0;34m,\u001b[0m \u001b[0mtokenizer\u001b[0m\u001b[0;34m,\u001b[0m \u001b[0mmodel\u001b[0m\u001b[0;34m)\u001b[0m\u001b[0;34m\u001b[0m\u001b[0;34m\u001b[0m\u001b[0m\n\u001b[0m\u001b[1;32m     21\u001b[0m         \u001b[0;31m#print(np.argmax(predictions))\u001b[0m\u001b[0;34m\u001b[0m\u001b[0;34m\u001b[0m\u001b[0;34m\u001b[0m\u001b[0m\n\u001b[1;32m     22\u001b[0m         \u001b[0;32mif\u001b[0m \u001b[0mpredictions\u001b[0m\u001b[0;34m!=\u001b[0m\u001b[0;36m17\u001b[0m\u001b[0;34m:\u001b[0m\u001b[0;34m\u001b[0m\u001b[0;34m\u001b[0m\u001b[0m\n",
            "\u001b[0;32m<ipython-input-143-6eb4f9ce598d>\u001b[0m in \u001b[0;36msample_predict\u001b[0;34m(sentence, pad, t, model)\u001b[0m\n\u001b[1;32m      6\u001b[0m   \u001b[0;32mif\u001b[0m \u001b[0mlen\u001b[0m\u001b[0;34m(\u001b[0m\u001b[0mtokenized_sample_pred_text\u001b[0m\u001b[0;34m[\u001b[0m\u001b[0;36m0\u001b[0m\u001b[0;34m]\u001b[0m\u001b[0;34m)\u001b[0m\u001b[0;34m<\u001b[0m\u001b[0mPAD_SIZE\u001b[0m\u001b[0;34m:\u001b[0m\u001b[0;34m\u001b[0m\u001b[0;34m\u001b[0m\u001b[0m\n\u001b[1;32m      7\u001b[0m     \u001b[0minp\u001b[0m\u001b[0;34m=\u001b[0m\u001b[0mpadarray\u001b[0m\u001b[0;34m(\u001b[0m\u001b[0mtokenized_sample_pred_text\u001b[0m\u001b[0;34m[\u001b[0m\u001b[0;36m0\u001b[0m\u001b[0;34m]\u001b[0m\u001b[0;34m,\u001b[0m \u001b[0mPAD_SIZE\u001b[0m\u001b[0;34m)\u001b[0m\u001b[0;34m\u001b[0m\u001b[0;34m\u001b[0m\u001b[0m\n\u001b[0;32m----> 8\u001b[0;31m     \u001b[0mpredictions\u001b[0m \u001b[0;34m=\u001b[0m \u001b[0mmodel\u001b[0m\u001b[0;34m.\u001b[0m\u001b[0mpredict\u001b[0m\u001b[0;34m(\u001b[0m\u001b[0mtf\u001b[0m\u001b[0;34m.\u001b[0m\u001b[0mexpand_dims\u001b[0m\u001b[0;34m(\u001b[0m\u001b[0minp\u001b[0m\u001b[0;34m,\u001b[0m \u001b[0;36m0\u001b[0m\u001b[0;34m)\u001b[0m\u001b[0;34m)\u001b[0m\u001b[0;34m\u001b[0m\u001b[0;34m\u001b[0m\u001b[0m\n\u001b[0m\u001b[1;32m      9\u001b[0m     \u001b[0;32mreturn\u001b[0m \u001b[0mnp\u001b[0m\u001b[0;34m.\u001b[0m\u001b[0margmax\u001b[0m\u001b[0;34m(\u001b[0m\u001b[0mpredictions\u001b[0m\u001b[0;34m)\u001b[0m\u001b[0;34m\u001b[0m\u001b[0;34m\u001b[0m\u001b[0m\n\u001b[1;32m     10\u001b[0m   \u001b[0;32melse\u001b[0m\u001b[0;34m:\u001b[0m\u001b[0;34m\u001b[0m\u001b[0;34m\u001b[0m\u001b[0m\n",
            "\u001b[0;32m/usr/local/lib/python3.6/dist-packages/tensorflow/python/keras/engine/training.py\u001b[0m in \u001b[0;36mpredict\u001b[0;34m(self, x, batch_size, verbose, steps, callbacks, max_queue_size, workers, use_multiprocessing)\u001b[0m\n\u001b[1;32m    819\u001b[0m         \u001b[0mmax_queue_size\u001b[0m\u001b[0;34m=\u001b[0m\u001b[0mmax_queue_size\u001b[0m\u001b[0;34m,\u001b[0m\u001b[0;34m\u001b[0m\u001b[0;34m\u001b[0m\u001b[0m\n\u001b[1;32m    820\u001b[0m         \u001b[0mworkers\u001b[0m\u001b[0;34m=\u001b[0m\u001b[0mworkers\u001b[0m\u001b[0;34m,\u001b[0m\u001b[0;34m\u001b[0m\u001b[0;34m\u001b[0m\u001b[0m\n\u001b[0;32m--> 821\u001b[0;31m         use_multiprocessing=use_multiprocessing)\n\u001b[0m\u001b[1;32m    822\u001b[0m \u001b[0;34m\u001b[0m\u001b[0m\n\u001b[1;32m    823\u001b[0m   \u001b[0;32mdef\u001b[0m \u001b[0mreset_metrics\u001b[0m\u001b[0;34m(\u001b[0m\u001b[0mself\u001b[0m\u001b[0;34m)\u001b[0m\u001b[0;34m:\u001b[0m\u001b[0;34m\u001b[0m\u001b[0;34m\u001b[0m\u001b[0m\n",
            "\u001b[0;32m/usr/local/lib/python3.6/dist-packages/tensorflow/python/keras/engine/training_arrays.py\u001b[0m in \u001b[0;36mpredict\u001b[0;34m(self, model, x, batch_size, verbose, steps, callbacks, **kwargs)\u001b[0m\n\u001b[1;32m    710\u001b[0m         \u001b[0mverbose\u001b[0m\u001b[0;34m=\u001b[0m\u001b[0mverbose\u001b[0m\u001b[0;34m,\u001b[0m\u001b[0;34m\u001b[0m\u001b[0;34m\u001b[0m\u001b[0m\n\u001b[1;32m    711\u001b[0m         \u001b[0msteps\u001b[0m\u001b[0;34m=\u001b[0m\u001b[0msteps\u001b[0m\u001b[0;34m,\u001b[0m\u001b[0;34m\u001b[0m\u001b[0;34m\u001b[0m\u001b[0m\n\u001b[0;32m--> 712\u001b[0;31m         callbacks=callbacks)\n\u001b[0m",
            "\u001b[0;32m/usr/local/lib/python3.6/dist-packages/tensorflow/python/keras/engine/training_arrays.py\u001b[0m in \u001b[0;36mmodel_iteration\u001b[0;34m(model, inputs, targets, sample_weights, batch_size, epochs, verbose, callbacks, val_inputs, val_targets, val_sample_weights, shuffle, initial_epoch, steps_per_epoch, validation_steps, validation_freq, mode, validation_in_fit, prepared_feed_values_from_dataset, steps_name, **kwargs)\u001b[0m\n\u001b[1;32m    381\u001b[0m \u001b[0;34m\u001b[0m\u001b[0m\n\u001b[1;32m    382\u001b[0m         \u001b[0;31m# Get outputs.\u001b[0m\u001b[0;34m\u001b[0m\u001b[0;34m\u001b[0m\u001b[0;34m\u001b[0m\u001b[0m\n\u001b[0;32m--> 383\u001b[0;31m         \u001b[0mbatch_outs\u001b[0m \u001b[0;34m=\u001b[0m \u001b[0mf\u001b[0m\u001b[0;34m(\u001b[0m\u001b[0mins_batch\u001b[0m\u001b[0;34m)\u001b[0m\u001b[0;34m\u001b[0m\u001b[0;34m\u001b[0m\u001b[0m\n\u001b[0m\u001b[1;32m    384\u001b[0m         \u001b[0;32mif\u001b[0m \u001b[0;32mnot\u001b[0m \u001b[0misinstance\u001b[0m\u001b[0;34m(\u001b[0m\u001b[0mbatch_outs\u001b[0m\u001b[0;34m,\u001b[0m \u001b[0mlist\u001b[0m\u001b[0;34m)\u001b[0m\u001b[0;34m:\u001b[0m\u001b[0;34m\u001b[0m\u001b[0;34m\u001b[0m\u001b[0m\n\u001b[1;32m    385\u001b[0m           \u001b[0mbatch_outs\u001b[0m \u001b[0;34m=\u001b[0m \u001b[0;34m[\u001b[0m\u001b[0mbatch_outs\u001b[0m\u001b[0;34m]\u001b[0m\u001b[0;34m\u001b[0m\u001b[0;34m\u001b[0m\u001b[0m\n",
            "\u001b[0;32m/usr/local/lib/python3.6/dist-packages/tensorflow/python/keras/backend.py\u001b[0m in \u001b[0;36m__call__\u001b[0;34m(self, inputs)\u001b[0m\n\u001b[1;32m   3508\u001b[0m         \u001b[0mvalue\u001b[0m \u001b[0;34m=\u001b[0m \u001b[0mmath_ops\u001b[0m\u001b[0;34m.\u001b[0m\u001b[0mcast\u001b[0m\u001b[0;34m(\u001b[0m\u001b[0mvalue\u001b[0m\u001b[0;34m,\u001b[0m \u001b[0mtensor\u001b[0m\u001b[0;34m.\u001b[0m\u001b[0mdtype\u001b[0m\u001b[0;34m)\u001b[0m\u001b[0;34m\u001b[0m\u001b[0;34m\u001b[0m\u001b[0m\n\u001b[1;32m   3509\u001b[0m       \u001b[0mconverted_inputs\u001b[0m\u001b[0;34m.\u001b[0m\u001b[0mappend\u001b[0m\u001b[0;34m(\u001b[0m\u001b[0mvalue\u001b[0m\u001b[0;34m)\u001b[0m\u001b[0;34m\u001b[0m\u001b[0;34m\u001b[0m\u001b[0m\n\u001b[0;32m-> 3510\u001b[0;31m     \u001b[0moutputs\u001b[0m \u001b[0;34m=\u001b[0m \u001b[0mself\u001b[0m\u001b[0;34m.\u001b[0m\u001b[0m_graph_fn\u001b[0m\u001b[0;34m(\u001b[0m\u001b[0;34m*\u001b[0m\u001b[0mconverted_inputs\u001b[0m\u001b[0;34m)\u001b[0m\u001b[0;34m\u001b[0m\u001b[0;34m\u001b[0m\u001b[0m\n\u001b[0m\u001b[1;32m   3511\u001b[0m \u001b[0;34m\u001b[0m\u001b[0m\n\u001b[1;32m   3512\u001b[0m     \u001b[0;31m# EagerTensor.numpy() will often make a copy to ensure memory safety.\u001b[0m\u001b[0;34m\u001b[0m\u001b[0;34m\u001b[0m\u001b[0;34m\u001b[0m\u001b[0m\n",
            "\u001b[0;32m/usr/local/lib/python3.6/dist-packages/tensorflow/python/eager/function.py\u001b[0m in \u001b[0;36m__call__\u001b[0;34m(self, *args, **kwargs)\u001b[0m\n\u001b[1;32m    570\u001b[0m       raise TypeError(\"Keyword arguments {} unknown. Expected {}.\".format(\n\u001b[1;32m    571\u001b[0m           list(kwargs.keys()), list(self._arg_keywords)))\n\u001b[0;32m--> 572\u001b[0;31m     \u001b[0;32mreturn\u001b[0m \u001b[0mself\u001b[0m\u001b[0;34m.\u001b[0m\u001b[0m_call_flat\u001b[0m\u001b[0;34m(\u001b[0m\u001b[0margs\u001b[0m\u001b[0;34m)\u001b[0m\u001b[0;34m\u001b[0m\u001b[0;34m\u001b[0m\u001b[0m\n\u001b[0m\u001b[1;32m    573\u001b[0m \u001b[0;34m\u001b[0m\u001b[0m\n\u001b[1;32m    574\u001b[0m   \u001b[0;32mdef\u001b[0m \u001b[0m_filtered_call\u001b[0m\u001b[0;34m(\u001b[0m\u001b[0mself\u001b[0m\u001b[0;34m,\u001b[0m \u001b[0margs\u001b[0m\u001b[0;34m,\u001b[0m \u001b[0mkwargs\u001b[0m\u001b[0;34m)\u001b[0m\u001b[0;34m:\u001b[0m\u001b[0;34m\u001b[0m\u001b[0;34m\u001b[0m\u001b[0m\n",
            "\u001b[0;32m/usr/local/lib/python3.6/dist-packages/tensorflow/python/eager/function.py\u001b[0m in \u001b[0;36m_call_flat\u001b[0;34m(self, args)\u001b[0m\n\u001b[1;32m    669\u001b[0m     \u001b[0;31m# Only need to override the gradient in graph mode and when we have outputs.\u001b[0m\u001b[0;34m\u001b[0m\u001b[0;34m\u001b[0m\u001b[0;34m\u001b[0m\u001b[0m\n\u001b[1;32m    670\u001b[0m     \u001b[0;32mif\u001b[0m \u001b[0mcontext\u001b[0m\u001b[0;34m.\u001b[0m\u001b[0mexecuting_eagerly\u001b[0m\u001b[0;34m(\u001b[0m\u001b[0;34m)\u001b[0m \u001b[0;32mor\u001b[0m \u001b[0;32mnot\u001b[0m \u001b[0mself\u001b[0m\u001b[0;34m.\u001b[0m\u001b[0moutputs\u001b[0m\u001b[0;34m:\u001b[0m\u001b[0;34m\u001b[0m\u001b[0;34m\u001b[0m\u001b[0m\n\u001b[0;32m--> 671\u001b[0;31m       \u001b[0moutputs\u001b[0m \u001b[0;34m=\u001b[0m \u001b[0mself\u001b[0m\u001b[0;34m.\u001b[0m\u001b[0m_inference_function\u001b[0m\u001b[0;34m.\u001b[0m\u001b[0mcall\u001b[0m\u001b[0;34m(\u001b[0m\u001b[0mctx\u001b[0m\u001b[0;34m,\u001b[0m \u001b[0margs\u001b[0m\u001b[0;34m)\u001b[0m\u001b[0;34m\u001b[0m\u001b[0;34m\u001b[0m\u001b[0m\n\u001b[0m\u001b[1;32m    672\u001b[0m     \u001b[0;32melse\u001b[0m\u001b[0;34m:\u001b[0m\u001b[0;34m\u001b[0m\u001b[0;34m\u001b[0m\u001b[0m\n\u001b[1;32m    673\u001b[0m       \u001b[0mself\u001b[0m\u001b[0;34m.\u001b[0m\u001b[0m_register_gradient\u001b[0m\u001b[0;34m(\u001b[0m\u001b[0;34m)\u001b[0m\u001b[0;34m\u001b[0m\u001b[0;34m\u001b[0m\u001b[0m\n",
            "\u001b[0;32m/usr/local/lib/python3.6/dist-packages/tensorflow/python/eager/function.py\u001b[0m in \u001b[0;36mcall\u001b[0;34m(self, ctx, args)\u001b[0m\n\u001b[1;32m    443\u001b[0m             attrs=(\"executor_type\", executor_type,\n\u001b[1;32m    444\u001b[0m                    \"config_proto\", config),\n\u001b[0;32m--> 445\u001b[0;31m             ctx=ctx)\n\u001b[0m\u001b[1;32m    446\u001b[0m       \u001b[0;31m# Replace empty list with None\u001b[0m\u001b[0;34m\u001b[0m\u001b[0;34m\u001b[0m\u001b[0;34m\u001b[0m\u001b[0m\n\u001b[1;32m    447\u001b[0m       \u001b[0moutputs\u001b[0m \u001b[0;34m=\u001b[0m \u001b[0moutputs\u001b[0m \u001b[0;32mor\u001b[0m \u001b[0;32mNone\u001b[0m\u001b[0;34m\u001b[0m\u001b[0;34m\u001b[0m\u001b[0m\n",
            "\u001b[0;32m/usr/local/lib/python3.6/dist-packages/tensorflow/python/eager/execute.py\u001b[0m in \u001b[0;36mquick_execute\u001b[0;34m(op_name, num_outputs, inputs, attrs, ctx, name)\u001b[0m\n\u001b[1;32m     59\u001b[0m     tensors = pywrap_tensorflow.TFE_Py_Execute(ctx._handle, device_name,\n\u001b[1;32m     60\u001b[0m                                                \u001b[0mop_name\u001b[0m\u001b[0;34m,\u001b[0m \u001b[0minputs\u001b[0m\u001b[0;34m,\u001b[0m \u001b[0mattrs\u001b[0m\u001b[0;34m,\u001b[0m\u001b[0;34m\u001b[0m\u001b[0;34m\u001b[0m\u001b[0m\n\u001b[0;32m---> 61\u001b[0;31m                                                num_outputs)\n\u001b[0m\u001b[1;32m     62\u001b[0m   \u001b[0;32mexcept\u001b[0m \u001b[0mcore\u001b[0m\u001b[0;34m.\u001b[0m\u001b[0m_NotOkStatusException\u001b[0m \u001b[0;32mas\u001b[0m \u001b[0me\u001b[0m\u001b[0;34m:\u001b[0m\u001b[0;34m\u001b[0m\u001b[0;34m\u001b[0m\u001b[0m\n\u001b[1;32m     63\u001b[0m     \u001b[0;32mif\u001b[0m \u001b[0mname\u001b[0m \u001b[0;32mis\u001b[0m \u001b[0;32mnot\u001b[0m \u001b[0;32mNone\u001b[0m\u001b[0;34m:\u001b[0m\u001b[0;34m\u001b[0m\u001b[0;34m\u001b[0m\u001b[0m\n",
            "\u001b[0;31mKeyboardInterrupt\u001b[0m: "
          ]
        }
      ]
    },
    {
      "cell_type": "markdown",
      "metadata": {
        "id": "2EvswJ0z4Dkb",
        "colab_type": "text"
      },
      "source": [
        "#What's Next?\n",
        "Now you have created your folder of .story files. Now you can follow the github of to preprocess this folder and start the training of the Pointer Generator Network"
      ]
    },
    {
      "cell_type": "code",
      "metadata": {
        "id": "ENq88-wevN0l",
        "colab_type": "code",
        "colab": {}
      },
      "source": [
        ""
      ],
      "execution_count": 0,
      "outputs": []
    }
  ]
}